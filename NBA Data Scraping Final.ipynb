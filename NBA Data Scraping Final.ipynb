{
 "cells": [
  {
   "cell_type": "code",
   "execution_count": 1,
   "metadata": {},
   "outputs": [],
   "source": [
    "import pandas as pd\n",
    "from bs4 import BeautifulSoup\n",
    "import requests\n",
    "import time\n",
    "import numpy as np\n",
    "from collections import Counter"
   ]
  },
  {
   "cell_type": "markdown",
   "metadata": {},
   "source": [
    "# Project Objective\n",
    "\n",
    "My ultimate goal in this project, which will be spread over multiple notebooks, is to predict with some degree of accuracy which draft picks are likely to be selected for an all star game during the early part (first five years) of their careers. In order to make this determination, I want to use only data that would be available shortly after the draft was completed and that is readily available for players going back to the 1976-77 season, the year that the NBA and ABA merged into a single league. "
   ]
  },
  {
   "cell_type": "markdown",
   "metadata": {},
   "source": [
    "### Data Scraping\n",
    "\n",
    "The first step in completing this project is, obviously, to obtain the necessary data. I have chosen to use the following data sets from the specified sources:\n",
    "1. NBA drafts (Wikipedia)\n",
    "2. NBA all star selections (Wikipedia)\n",
    "3. NCAA tournament teams (sports reference)\n",
    "4. NCAA division assignments (ncaa)\n",
    "\n",
    "6. NBA standings (basketball reference)\n",
    "5. NBA rosters (basketball reference)"
   ]
  },
  {
   "cell_type": "markdown",
   "metadata": {},
   "source": [
    "### Scraping the NBA drafts\n",
    "\n",
    "Because I have chosen to use Wikipedia as the source for this information (largely because their charts contain information that is missing from most other readily available sources), there is considerable variation in the layout of the pages. As a result, it was necessary for me to use multiple variations of the scraping function in order to obtain what was needed."
   ]
  },
  {
   "cell_type": "code",
   "execution_count": 2,
   "metadata": {},
   "outputs": [],
   "source": [
    "years = [str(1976 + i) for i in range(45)]"
   ]
  },
  {
   "cell_type": "code",
   "execution_count": 48,
   "metadata": {},
   "outputs": [],
   "source": [
    "def NBA_draft(year):\n",
    "        \n",
    "    group_1 = ['1976', '1977', '1978', '1979', '1980', '1981']\n",
    "    group_2 = ['1984', '1996', '1997']\n",
    "    group_3 = ['1982', '1983', '1988', '1991', '1995', '2009']\n",
    "    group_4 = ['1985', '1986', '1987', '1989', '1990', '1992', \n",
    "               '1993', '1994', '1998', '1999', '2000', '2001', \n",
    "               '2002', '2003', '2004', '2005', '2006', '2007', \n",
    "               '2008', '2010', '2011', '2012', '2013', '2014',\n",
    "               '2015', '2016', '2017', '2018', '2019']\n",
    "        \n",
    "    url = 'https://en.wikipedia.org/wiki/{}_NBA_draft'.format(year)  \n",
    "        \n",
    "    page = requests.get(url)\n",
    "    soup = BeautifulSoup(page.content, 'html.parser').prettify()\n",
    "        \n",
    "    if (year in group_1) or (year in group_3):\n",
    "        start_marker = '<span class=\"mw-headline\" id=\"Draft\">'\n",
    "    else:\n",
    "        start_marker = '<span class=\"mw-headline\" id=\"Draft_select'\n",
    "        \n",
    "    start_index = soup.find(start_marker)\n",
    "    \n",
    "    soup = soup[start_index:]\n",
    "    \n",
    "    my_soup = soup.split('\\n')\n",
    "\n",
    "    table_starts = [i for i in range(len(my_soup)) if '<table class' in my_soup[i]]\n",
    "    \n",
    "    if (year in group_1) or (year in group_2):\n",
    "        table_ends = [i for i in range(table_starts[0], table_starts[1]) if '</table>' in my_soup[i]]\n",
    "        to_use = my_soup[table_starts[0]: table_ends[0]]\n",
    "        \n",
    "    else:\n",
    "        table_ends = [i for i in range(table_starts[2], len(my_soup)) if '</table>' in my_soup[i]]\n",
    "        to_use = my_soup[table_starts[2]: table_ends[0]]\n",
    "\n",
    "    to_use = [item.lstrip() for item in to_use]\n",
    "\n",
    "    row_indices = [i for i in range(len(to_use)) if to_use[i] == '<tr>']\n",
    "    row_indices.append(-1)\n",
    "    \n",
    "    cols = to_use[row_indices[0]:row_indices[1]]\n",
    "    col_div = [i for i in range(len(cols)) if '<th' in cols[i]]\n",
    "    col_div.append(-1)\n",
    "    \n",
    "    col_names = []\n",
    "    for i in range(len(col_div) - 1):\n",
    "        col = cols[col_div[i]:col_div[i+1]]\n",
    "        col = [item for item in col if ('<' not in item) & ('>' not in item)]\n",
    "        col = ' '.join(col)\n",
    "        col_names.append(col)\n",
    "\n",
    "    rows = []\n",
    "\n",
    "    for i in range(1, len(row_indices) - 1):\n",
    "        row = to_use[row_indices[i]:row_indices[i+1]]\n",
    "        row_div = [i for i in range(len(row)) if ('<td' in row[i]) or ('<th' in row[i])]\n",
    "        row_div.append(-1)\n",
    "        \n",
    "        new_row = []\n",
    "        for i in range(len(row_div)-1):\n",
    "            entry = row[row_div[i]: row_div[i+1]]\n",
    "            entry = [item for item in entry if ('<' not in item) & ('>' not in item)]\n",
    "            entry = ' '.join(entry)\n",
    "            new_row.append(entry)\n",
    "            \n",
    "        rows.append(new_row)\n",
    "    \n",
    "    data = pd.DataFrame(rows)\n",
    "    \n",
    "    data.dropna(how = 'any', axis = 1, inplace = True)\n",
    "    data.dropna(how = 'any', axis = 0, inplace = True)\n",
    "    data.columns = col_names\n",
    "\n",
    "\n",
    "    return data"
   ]
  },
  {
   "cell_type": "code",
   "execution_count": 49,
   "metadata": {},
   "outputs": [
    {
     "name": "stdout",
     "output_type": "stream",
     "text": [
      "There were 34 draft picks in  1976\n",
      "There were 44 draft picks in  1977\n",
      "There were 44 draft picks in  1978\n",
      "There were 44 draft picks in  1979\n",
      "There were 46 draft picks in  1980\n",
      "There were 46 draft picks in  1981\n",
      "There were 46 draft picks in  1982\n",
      "There were 47 draft picks in  1983\n",
      "There were 47 draft picks in  1984\n",
      "There were 47 draft picks in  1985\n",
      "There were 47 draft picks in  1986\n",
      "There were 46 draft picks in  1987\n",
      "There were 75 draft picks in  1988\n",
      "There were 54 draft picks in  1989\n",
      "There were 54 draft picks in  1990\n",
      "There were 54 draft picks in  1991\n",
      "There were 54 draft picks in  1992\n",
      "There were 54 draft picks in  1993\n",
      "There were 54 draft picks in  1994\n",
      "There were 58 draft picks in  1995\n",
      "There were 58 draft picks in  1996\n",
      "There were 57 draft picks in  1997\n",
      "There were 58 draft picks in  1998\n",
      "There were 58 draft picks in  1999\n",
      "There were 58 draft picks in  2000\n",
      "There were 58 draft picks in  2001\n",
      "There were 58 draft picks in  2002\n",
      "There were 58 draft picks in  2003\n",
      "There were 59 draft picks in  2004\n",
      "There were 60 draft picks in  2005\n",
      "There were 60 draft picks in  2006\n",
      "There were 60 draft picks in  2007\n",
      "There were 60 draft picks in  2008\n",
      "There were 60 draft picks in  2009\n",
      "There were 60 draft picks in  2010\n",
      "There were 60 draft picks in  2011\n",
      "There were 60 draft picks in  2012\n",
      "There were 60 draft picks in  2013\n",
      "There were 60 draft picks in  2014\n",
      "There were 60 draft picks in  2015\n",
      "There were 60 draft picks in  2016\n",
      "There were 60 draft picks in  2017\n",
      "There were 60 draft picks in  2018\n",
      "There were 60 draft picks in  2019\n"
     ]
    }
   ],
   "source": [
    "for year in years[:-1]:\n",
    "    df = NBA_draft(year)\n",
    "    \n",
    "    df.to_csv(\"NBA_draft_{}.csv\".format(year))\n",
    "    \n",
    "    print(\"There were {} draft picks in \".format(len(df)), year)"
   ]
  },
  {
   "cell_type": "markdown",
   "metadata": {},
   "source": [
    "### Scraping the NBA All Star selections"
   ]
  },
  {
   "cell_type": "code",
   "execution_count": 5,
   "metadata": {},
   "outputs": [],
   "source": [
    "def NBA_All_Stars(year):\n",
    "    \n",
    "    if year == '1999':\n",
    "        return None\n",
    "    \n",
    "    format_1 = ['1977']\n",
    "    format_2 = ['1978']\n",
    "    format_3 = ['1979', '1980', '1981']\n",
    "    format_4 = ['1982', '1985']\n",
    "    format_5 = ['2006']\n",
    "    \n",
    "    url = 'https://en.wikipedia.org/wiki/{}_NBA_All-Star_Game'.format(year) \n",
    "        \n",
    "    page = requests.get(url)\n",
    "    soup = BeautifulSoup(page.content, 'html.parser').prettify()\n",
    "    \n",
    "    if year in format_1:\n",
    "        start_marker = '<span class=\"mw-headline\" id=\"Eastern'\n",
    "    elif year in format_2:\n",
    "        start_marker = '<span class=\"mw-headline\" id=\"Teams\"'\n",
    "    elif year in format_3:\n",
    "        start_marker = '<span class=\"mw-headline\" id=\"Team_rost'\n",
    "    elif year in format_4:\n",
    "        start_marker = '<span class=\"mw-headline\" id=\"Western'\n",
    "    elif year in format_5:\n",
    "        start_marker = '<span class=\"mw-headline\" id=\"Players\"'\n",
    "    else:\n",
    "        start_marker = '<span class=\"mw-headline\" id=\"Roster'\n",
    "        \n",
    "    start_index = soup.find(start_marker)\n",
    "    \n",
    "    my_soup = soup[start_index:].split('\\n')\n",
    "    my_soup = [item.lstrip() for item in my_soup]\n",
    "    \n",
    "    table_starts = [i for i in range(len(my_soup)) if '<table' in my_soup[i]]\n",
    "    table_ends = [i for i in range(table_starts[0], len(my_soup)) if '</table>' in my_soup[i]]\n",
    "    \n",
    "    players = []\n",
    "    \n",
    "    for count in range(2):\n",
    "        to_use = my_soup[table_starts[count]:table_ends[count]]\n",
    "        row_starts = [i for i in range(len(to_use)) if to_use[i] == '<tr>']\n",
    "        row_starts.append(-1)\n",
    "        \n",
    "        for i in range(len(row_starts)-1):\n",
    "            \n",
    "            row = to_use[row_starts[i]:row_starts[i+1]]\n",
    "            \n",
    "            player = []\n",
    "            \n",
    "            player_breaks = [j for j in range(len(row)) if '<t' in row[j] ]\n",
    "            player_breaks.append(-1)\n",
    "            \n",
    "            for k in range(len(player_breaks)-1):\n",
    "                \n",
    "                datum = row[player_breaks[k]:player_breaks[k+1]]\n",
    "                datum = [item for item in datum if '<' not in item]\n",
    "                player.append(' '.join(datum))\n",
    "        \n",
    "            player = [item for item in player if item != '']\n",
    "            \n",
    "    \n",
    "            if len(player) >= 4:\n",
    "                players.append(player)\n",
    "\n",
    "    players = pd.DataFrame(players)\n",
    "    players.drop_duplicates([1, 2], inplace = True)\n",
    "    players.reset_index(inplace = True, drop = True)\n",
    "    \n",
    "    return players"
   ]
  },
  {
   "cell_type": "code",
   "execution_count": 6,
   "metadata": {},
   "outputs": [
    {
     "name": "stdout",
     "output_type": "stream",
     "text": [
      "There were 24 all star selections in  1977\n",
      "There were 23 all star selections in  1978\n",
      "There were 21 all star selections in  1979\n",
      "There were 23 all star selections in  1980\n",
      "There were 21 all star selections in  1981\n",
      "There were 24 all star selections in  1982\n",
      "There were 27 all star selections in  1983\n",
      "There were 27 all star selections in  1984\n",
      "There were 25 all star selections in  1985\n",
      "There were 28 all star selections in  1986\n",
      "There were 26 all star selections in  1987\n",
      "There were 26 all star selections in  1988\n",
      "There were 26 all star selections in  1989\n",
      "There were 26 all star selections in  1990\n",
      "There were 27 all star selections in  1991\n",
      "There were 30 all star selections in  1992\n",
      "There were 29 all star selections in  1993\n",
      "There were 27 all star selections in  1994\n",
      "There were 26 all star selections in  1995\n",
      "There were 25 all star selections in  1996\n",
      "There were 30 all star selections in  1997\n",
      "There were 25 all star selections in  1998\n",
      "There were 25 all star selections in  2000\n",
      "There were 29 all star selections in  2001\n",
      "There were 27 all star selections in  2002\n",
      "There were 26 all star selections in  2003\n",
      "There were 25 all star selections in  2004\n",
      "There were 25 all star selections in  2005\n",
      "There were 26 all star selections in  2006\n",
      "There were 30 all star selections in  2007\n",
      "There were 27 all star selections in  2008\n",
      "There were 27 all star selections in  2009\n",
      "There were 29 all star selections in  2010\n",
      "There were 26 all star selections in  2011\n",
      "There were 26 all star selections in  2012\n",
      "There were 26 all star selections in  2013\n",
      "There were 26 all star selections in  2014\n",
      "There were 29 all star selections in  2015\n",
      "There were 27 all star selections in  2016\n",
      "There were 26 all star selections in  2017\n",
      "There were 29 all star selections in  2018\n",
      "There were 28 all star selections in  2019\n",
      "There were 26 all star selections in  2020\n"
     ]
    }
   ],
   "source": [
    "for year in years[1:23]:\n",
    "    df = NBA_All_Stars(year)\n",
    "    df.to_csv(\"NBA_AllStars_{}.csv\".format(year))\n",
    "    \n",
    "    print(\"There were {} all star selections in \".format(len(df)), year)\n",
    "    \n",
    "for year in years[24:]:\n",
    "    df = NBA_All_Stars(year)\n",
    "    df.to_csv(\"NBA_AllStars_{}.csv\".format(year))\n",
    "    \n",
    "    print(\"There were {} all star selections in \".format(len(df)), year) "
   ]
  },
  {
   "cell_type": "markdown",
   "metadata": {},
   "source": [
    "### Scraping the NCAA tournament teams"
   ]
  },
  {
   "cell_type": "code",
   "execution_count": 7,
   "metadata": {},
   "outputs": [],
   "source": [
    "def NCAA_Tournament(year):\n",
    "    \n",
    "    url = 'https://www.sports-reference.com/cbb/postseason/{}-ncaa.html'.format(year) \n",
    "        \n",
    "    page = requests.get(url)\n",
    "    soup = BeautifulSoup(page.content, 'html.parser').prettify()\n",
    "    \n",
    "    #return soup\n",
    "    \n",
    "    start = soup.find('<div id=\"brackets\">')\n",
    "    end = soup.find('All-Tournament Team')\n",
    "    \n",
    "    my_soup = soup[start:end].split('\\n')\n",
    "\n",
    "    my_soup = [item.lstrip() for item in my_soup if '<' not in item]\n",
    "    my_soup = [item for item in my_soup if item != '']\n",
    "\n",
    "    # Get rid of the locations\n",
    "\n",
    "    my_soup = [item for item in my_soup if not item.isdigit()]\n",
    "\n",
    "    # Get rid of the scores\n",
    "\n",
    "    my_soup = [item for item in my_soup if 'at ' not in item]\n",
    "    \n",
    "    # Get rid of 'First Four'\n",
    "    \n",
    "    my_soup = [item for item in my_soup if ('First Four' not in item) &('Play-In' not in item)]\n",
    "\n",
    "    cnt = Counter()\n",
    "    for word in my_soup:\n",
    "        cnt[word] +=1\n",
    "    \n",
    "    teams = pd.DataFrame.from_dict(cnt, orient = 'index')\n",
    "    teams.reset_index(inplace = True)\n",
    "    teams.columns = ['Team', 'Round']\n",
    "    teams = teams.loc[teams['Team'] !='Third Place', :]\n",
    "    teams = teams.loc[teams['Team'] !=',', :]\n",
    "\n",
    "    \n",
    "    return teams"
   ]
  },
  {
   "cell_type": "code",
   "execution_count": 8,
   "metadata": {},
   "outputs": [
    {
     "name": "stdout",
     "output_type": "stream",
     "text": [
      "There were 32 tournament teams in  1976\n",
      "There were 32 tournament teams in  1977\n",
      "There were 32 tournament teams in  1978\n",
      "There were 40 tournament teams in  1979\n",
      "There were 48 tournament teams in  1980\n",
      "There were 48 tournament teams in  1981\n",
      "There were 48 tournament teams in  1982\n",
      "There were 52 tournament teams in  1983\n",
      "There were 53 tournament teams in  1984\n",
      "There were 64 tournament teams in  1985\n",
      "There were 64 tournament teams in  1986\n",
      "There were 64 tournament teams in  1987\n",
      "There were 64 tournament teams in  1988\n",
      "There were 64 tournament teams in  1989\n",
      "There were 64 tournament teams in  1990\n",
      "There were 64 tournament teams in  1991\n",
      "There were 64 tournament teams in  1992\n",
      "There were 64 tournament teams in  1993\n",
      "There were 64 tournament teams in  1994\n",
      "There were 64 tournament teams in  1995\n",
      "There were 64 tournament teams in  1996\n",
      "There were 64 tournament teams in  1997\n",
      "There were 64 tournament teams in  1998\n",
      "There were 64 tournament teams in  1999\n",
      "There were 64 tournament teams in  2000\n",
      "There were 65 tournament teams in  2001\n",
      "There were 65 tournament teams in  2002\n",
      "There were 65 tournament teams in  2003\n",
      "There were 65 tournament teams in  2004\n",
      "There were 65 tournament teams in  2005\n",
      "There were 65 tournament teams in  2006\n",
      "There were 65 tournament teams in  2007\n",
      "There were 65 tournament teams in  2008\n",
      "There were 65 tournament teams in  2009\n",
      "There were 65 tournament teams in  2010\n",
      "There were 68 tournament teams in  2011\n",
      "There were 68 tournament teams in  2012\n",
      "There were 68 tournament teams in  2013\n",
      "There were 68 tournament teams in  2014\n",
      "There were 68 tournament teams in  2015\n",
      "There were 68 tournament teams in  2016\n",
      "There were 68 tournament teams in  2017\n",
      "There were 68 tournament teams in  2018\n",
      "There were 68 tournament teams in  2019\n"
     ]
    }
   ],
   "source": [
    "for year in years[:-1]:\n",
    "    df = NCAA_Tournament(year)\n",
    "    \n",
    "    df.to_csv(\"NCAA_tournament_{}.csv\".format(year))\n",
    "    \n",
    "    print(\"There were {} tournament teams in \".format(len(df)), year)"
   ]
  },
  {
   "cell_type": "markdown",
   "metadata": {},
   "source": [
    "### Scraping the NCAA division memberships"
   ]
  },
  {
   "cell_type": "code",
   "execution_count": 9,
   "metadata": {},
   "outputs": [],
   "source": [
    "def NCAA_division(div):\n",
    "    \n",
    "    url = 'https://www.ncsasports.org/mens-basketball/division-{}-colleges'.format(div)\n",
    "    \n",
    "    page = requests.get(url)\n",
    "\n",
    "    soup = BeautifulSoup(page.content, 'html.parser').prettify()\n",
    "    \n",
    "    start = soup.find('Full list of ')\n",
    "    end = soup.find(' <div class=\"right-sidebar pull-sidebar layout-main-sidebar\">')\n",
    "    \n",
    "    my_soup = soup[start:end].split('\\n')\n",
    "    my_soup = [item.lstrip() for item in my_soup]\n",
    "    \n",
    "    univ_keys = [i for i in range(len(my_soup)) if my_soup[i] == '<span itemprop=\"name\">']\n",
    "    univ_keys.append(-1)\n",
    "    \n",
    "    universities = []\n",
    "    \n",
    "    for key1, key2 in zip(univ_keys[:-1], univ_keys[1:]):\n",
    "\n",
    "        university = [item for item in my_soup[key1 : key2] if '<' not in item]\n",
    "        university = university[0:1] + [''.join(university[1:4])] + university[4:]\n",
    "        universities.append(university)\n",
    "        \n",
    "    cols = ['School', 'City and State', 'Region', 'Conference', 'Division']\n",
    "    \n",
    "    universities = pd.DataFrame(universities, columns = cols)\n",
    "    \n",
    "    return universities"
   ]
  },
  {
   "cell_type": "code",
   "execution_count": 11,
   "metadata": {},
   "outputs": [
    {
     "name": "stdout",
     "output_type": "stream",
     "text": [
      "There are 355 teams in NCAA division  1\n",
      "There are 304 teams in NCAA division  2\n",
      "There are 420 teams in NCAA division  3\n"
     ]
    }
   ],
   "source": [
    "for div in ['1', '2', '3']:\n",
    "\n",
    "    df = NCAA_division(div)\n",
    "    \n",
    "    df.to_csv('NCAA_division_{}'.format(div))\n",
    "    \n",
    "    print(\"There are {} teams in NCAA division \".format(len(df)), div)"
   ]
  },
  {
   "cell_type": "markdown",
   "metadata": {},
   "source": [
    "### Scraping NBA standings"
   ]
  },
  {
   "cell_type": "code",
   "execution_count": 12,
   "metadata": {},
   "outputs": [],
   "source": [
    "def NBA_Standings(year):\n",
    "    \n",
    "    url = 'https://www.basketball-reference.com/leagues/NBA_{}.html'.format(year)\n",
    "\n",
    "    page = requests.get(url)\n",
    "\n",
    "    soup = BeautifulSoup(page.content, 'html.parser').prettify()\n",
    "    \n",
    "    start = soup.find('Division Standings')\n",
    "    end = soup.find('Playoff Series')\n",
    "    \n",
    "    my_soup = soup[start:end].split('\\n')\n",
    "    my_soup = [item.lstrip() for item in my_soup]\n",
    "\n",
    "    table_starts = [i for i in range(len(my_soup)) if '<thead' in my_soup[i]]\n",
    "    table_ends = [i for i in range(len(my_soup)) if '</table>' in my_soup[i]]\n",
    "\n",
    "    standings = []\n",
    "    \n",
    "    for i in range(2):\n",
    "        table_info = my_soup[table_starts[i]: table_ends[i]]\n",
    "        table_rows = [i for i in range(len(table_info)) if '<tr' in table_info[i]]\n",
    "        table_rows.append(-1)\n",
    "        \n",
    "        for key1, key2 in zip(table_rows[:-1], table_rows[1:]):\n",
    "            table_row = table_info[key1:key2]\n",
    "            team_ind = [i for i in range(len(table_row)) if ('<td' in table_row[i]) or ('<th' in table_row[i])]\n",
    "            team_ind.append(-1)\n",
    "            \n",
    "            team = []\n",
    "            for ind1, ind2 in zip(team_ind[:-1], team_ind[1:]):\n",
    "                dat = table_row[ind1:ind2]\n",
    "                dat = [item for item in dat if '<' not in item]\n",
    "                dat = \"\".join(dat)\n",
    "    \n",
    "                team.append(dat)\n",
    "        \n",
    "            standings.append(team)\n",
    "    \n",
    "    standings = pd.DataFrame(standings)\n",
    "    \n",
    "    cols = standings.loc[0, :].copy()\n",
    "    cols[0] = 'Teams'\n",
    "    standings.columns = cols\n",
    "    \n",
    "    to_drop = [i for i in range(len(standings)) if \n",
    "               ('Division' in standings.loc[i, 'Teams']) or \n",
    "               ('Conference' in standings.loc[i, 'Teams'])]\n",
    "    \n",
    "    standings.drop(to_drop, axis = 0, inplace = True)\n",
    "    standings.reset_index(drop = True, inplace = True)\n",
    "    \n",
    "    return standings"
   ]
  },
  {
   "cell_type": "code",
   "execution_count": 13,
   "metadata": {},
   "outputs": [
    {
     "name": "stdout",
     "output_type": "stream",
     "text": [
      "There were 18 NBA teams in  1976\n",
      "There were 22 NBA teams in  1977\n",
      "There were 22 NBA teams in  1978\n",
      "There were 22 NBA teams in  1979\n",
      "There were 22 NBA teams in  1980\n",
      "There were 23 NBA teams in  1981\n",
      "There were 23 NBA teams in  1982\n",
      "There were 23 NBA teams in  1983\n",
      "There were 23 NBA teams in  1984\n",
      "There were 23 NBA teams in  1985\n",
      "There were 23 NBA teams in  1986\n",
      "There were 23 NBA teams in  1987\n",
      "There were 23 NBA teams in  1988\n",
      "There were 25 NBA teams in  1989\n",
      "There were 27 NBA teams in  1990\n",
      "There were 27 NBA teams in  1991\n",
      "There were 27 NBA teams in  1992\n",
      "There were 27 NBA teams in  1993\n",
      "There were 27 NBA teams in  1994\n",
      "There were 27 NBA teams in  1995\n",
      "There were 29 NBA teams in  1996\n",
      "There were 29 NBA teams in  1997\n",
      "There were 29 NBA teams in  1998\n",
      "There were 29 NBA teams in  1999\n",
      "There were 29 NBA teams in  2000\n",
      "There were 29 NBA teams in  2001\n",
      "There were 29 NBA teams in  2002\n",
      "There were 29 NBA teams in  2003\n",
      "There were 29 NBA teams in  2004\n",
      "There were 30 NBA teams in  2005\n",
      "There were 30 NBA teams in  2006\n",
      "There were 30 NBA teams in  2007\n",
      "There were 30 NBA teams in  2008\n",
      "There were 30 NBA teams in  2009\n",
      "There were 30 NBA teams in  2010\n",
      "There were 30 NBA teams in  2011\n",
      "There were 30 NBA teams in  2012\n",
      "There were 30 NBA teams in  2013\n",
      "There were 30 NBA teams in  2014\n",
      "There were 30 NBA teams in  2015\n",
      "There were 30 NBA teams in  2016\n",
      "There were 30 NBA teams in  2017\n",
      "There were 30 NBA teams in  2018\n",
      "There were 30 NBA teams in  2019\n"
     ]
    }
   ],
   "source": [
    "for year in years[:-1]:\n",
    "    df = NBA_Standings(year)\n",
    "    \n",
    "    df.to_csv(\"NBA_Standings_{}.csv\".format(year))\n",
    "    \n",
    "    print(\"There were {} NBA teams in \".format(len(df)), year)"
   ]
  },
  {
   "cell_type": "markdown",
   "metadata": {},
   "source": [
    "### Scraping NBA Rosters\n",
    "\n",
    "Here I'm going to scrape each team in a separate cell, in part because some teams have changed locations and/or names, and as a result their urls are not consistant."
   ]
  },
  {
   "cell_type": "code",
   "execution_count": 16,
   "metadata": {},
   "outputs": [],
   "source": [
    "def NBA_Rosters(url):\n",
    "    \n",
    "    page = requests.get(url)\n",
    "\n",
    "    soup = BeautifulSoup(page.content, 'html.parser').prettify()\n",
    "    \n",
    "    start = soup.find('<span class=\"section_anchor\" data-label=\"Roster\" id=\"roster_link\">')\n",
    "    end = start + soup[start:].find('</table>')\n",
    "    \n",
    "    my_soup = soup[start:end].split('\\n')\n",
    "    my_soup = [item.lstrip() for item in my_soup]\n",
    "    \n",
    "    row_indices = [i for i in range(len(my_soup)) if my_soup[i] == '<tr>']\n",
    "    row_indices.append(-1)\n",
    "\n",
    "    roster = []\n",
    "    \n",
    "    for ind1, ind2 in zip(row_indices[:-1], row_indices[1:]):\n",
    "        player_info = my_soup[ind1 : ind2]\n",
    "        \n",
    "        player_index = [i for i in range(len(player_info)) if \n",
    "                        ('<td' in player_info[i]) or ('<th' in player_info[i])]\n",
    "        player_index.append(-1)\n",
    "        \n",
    "        player = []\n",
    "\n",
    "        for key1, key2 in zip(player_index[:-1], player_index[1:]):\n",
    "            dat = player_info[key1:key2]\n",
    "            dat = [item for item in dat if '<' not in item]\n",
    "            player.append(\"\".join(dat))\n",
    "    \n",
    "        roster.append(player)\n",
    "        \n",
    "    cols = ['No','Player','Pos','Ht','Wt','Birth Date','Flag','Exp','College']\n",
    "        \n",
    "    roster = pd.DataFrame(roster, columns = cols)\n",
    "    \n",
    "    \n",
    "    \n",
    "    return roster"
   ]
  },
  {
   "cell_type": "code",
   "execution_count": 17,
   "metadata": {},
   "outputs": [
    {
     "name": "stdout",
     "output_type": "stream",
     "text": [
      "There are a total of 776 players on these Chicago_Bulls rosters\n"
     ]
    }
   ],
   "source": [
    "Chicago_Bulls = pd.DataFrame()\n",
    "for year in years:\n",
    "    url = \"https://www.basketball-reference.com/teams/CHI/{}.html\".format(year)\n",
    "    players = NBA_Rosters(url)\n",
    "    \n",
    "    Chicago_Bulls = pd.concat([Chicago_Bulls, players], axis = 0)\n",
    "    \n",
    "Chicago_Bulls.to_csv('Chicago_Bulls.csv')\n",
    "\n",
    "print(\"There are a total of {} players on these Chicago_Bulls rosters\".format(len(Chicago_Bulls)))"
   ]
  },
  {
   "cell_type": "code",
   "execution_count": 19,
   "metadata": {},
   "outputs": [
    {
     "name": "stdout",
     "output_type": "stream",
     "text": [
      "There are a total of 774 players Detroit_Pistons on these rosters\n"
     ]
    }
   ],
   "source": [
    "Detroit_Pistons = pd.DataFrame()\n",
    "for year in years:\n",
    "    url = \"https://www.basketball-reference.com/teams/DET/{}.html\".format(year)\n",
    "    players = NBA_Rosters(url)\n",
    "    \n",
    "    Detroit_Pistons = pd.concat([Detroit_Pistons, players], axis = 0)\n",
    "    \n",
    "Detroit_Pistons.to_csv('Detroit_Pistons.csv')\n",
    "\n",
    "print(\"There are a total of {} players Detroit_Pistons on these rosters\".format(len(Detroit_Pistons)))"
   ]
  },
  {
   "cell_type": "code",
   "execution_count": 20,
   "metadata": {},
   "outputs": [
    {
     "name": "stdout",
     "output_type": "stream",
     "text": [
      "There are a total of 824 players on these Cleveland_Cavaliers rosters\n"
     ]
    }
   ],
   "source": [
    "Cleveland_Cavaliers = pd.DataFrame()\n",
    "for year in years:\n",
    "    url = \"https://www.basketball-reference.com/teams/CLE/{}.html\".format(year)\n",
    "    players = NBA_Rosters(url)\n",
    "    \n",
    "    Cleveland_Cavaliers = pd.concat([Cleveland_Cavaliers, players], axis = 0)\n",
    "    \n",
    "Cleveland_Cavaliers.to_csv('Cleveland_Cavaliers.csv')\n",
    "\n",
    "print(\"There are a total of {} players on these Cleveland_Cavaliers rosters\".format(len(Cleveland_Cavaliers)))"
   ]
  },
  {
   "cell_type": "code",
   "execution_count": 21,
   "metadata": {},
   "outputs": [
    {
     "name": "stdout",
     "output_type": "stream",
     "text": [
      "There are a total of 768 players on these Denver_Nuggets rosters\n"
     ]
    }
   ],
   "source": [
    "Denver_Nuggets = pd.DataFrame()\n",
    "for year in years:\n",
    "    url = \"https://www.basketball-reference.com/teams/DEN/{}.html\".format(year)\n",
    "    players = NBA_Rosters(url)\n",
    "    \n",
    "    Denver_Nuggets = pd.concat([Denver_Nuggets, players], axis = 0)\n",
    "    \n",
    "Denver_Nuggets.to_csv('Denver_Nuggets.csv')\n",
    "\n",
    "print(\"There are a total of {} players on these Denver_Nuggets rosters\".format(len(Denver_Nuggets)))"
   ]
  },
  {
   "cell_type": "code",
   "execution_count": 22,
   "metadata": {},
   "outputs": [
    {
     "name": "stdout",
     "output_type": "stream",
     "text": [
      "There are a total of 722 players on these Indiana_Pacers rosters\n"
     ]
    }
   ],
   "source": [
    "Indiana_Pacers = pd.DataFrame()\n",
    "for year in years:\n",
    "    url = \"https://www.basketball-reference.com/teams/IND/{}.html\".format(year)\n",
    "    players = NBA_Rosters(url)\n",
    "    \n",
    "    Indiana_Pacers = pd.concat([Indiana_Pacers, players], axis = 0)\n",
    "    \n",
    "Indiana_Pacers.to_csv('Indiana_Pacers.csv')\n",
    "\n",
    "print(\"There are a total of {} players on these Indiana_Pacers rosters\".format(len(Indiana_Pacers)))"
   ]
  },
  {
   "cell_type": "code",
   "execution_count": 23,
   "metadata": {},
   "outputs": [
    {
     "name": "stdout",
     "output_type": "stream",
     "text": [
      "There are a total of 803 players on these Milwaukee_Bucks rosters\n"
     ]
    }
   ],
   "source": [
    "Milwaukee_Bucks = pd.DataFrame()\n",
    "for year in years:\n",
    "    url = \"https://www.basketball-reference.com/teams/MIL/{}.html\".format(year)\n",
    "    players = NBA_Rosters(url)\n",
    "    \n",
    "    Milwaukee_Bucks = pd.concat([Milwaukee_Bucks, players], axis = 0)\n",
    "    \n",
    "Milwaukee_Bucks.to_csv('Milwaukee_Bucks.csv')\n",
    "\n",
    "print(\"There are a total of {} players on these Milwaukee_Bucks rosters\".format(len(Milwaukee_Bucks)))"
   ]
  },
  {
   "cell_type": "code",
   "execution_count": 24,
   "metadata": {},
   "outputs": [
    {
     "name": "stdout",
     "output_type": "stream",
     "text": [
      "There are a total of 795 players on these Houston_Rockets rosters\n"
     ]
    }
   ],
   "source": [
    "Houston_Rockets = pd.DataFrame()\n",
    "for year in years:\n",
    "    url = \"https://www.basketball-reference.com/teams/HOU/{}.html\".format(year)\n",
    "    players = NBA_Rosters(url)\n",
    "    \n",
    "    Houston_Rockets = pd.concat([Houston_Rockets, players], axis = 0)\n",
    "    \n",
    "Houston_Rockets.to_csv('Houston_Rockets.csv')\n",
    "\n",
    "print(\"There are a total of {} players on these Houston_Rockets rosters\".format(len(Houston_Rockets)))"
   ]
  },
  {
   "cell_type": "code",
   "execution_count": 25,
   "metadata": {},
   "outputs": [
    {
     "name": "stdout",
     "output_type": "stream",
     "text": [
      "There are a total of 784 players on these SanAntonio_Spurs rosters\n"
     ]
    }
   ],
   "source": [
    "SanAntonio_Spurs = pd.DataFrame()\n",
    "for year in years:\n",
    "    url = \"https://www.basketball-reference.com/teams/SAS/{}.html\".format(year)\n",
    "    players = NBA_Rosters(url)\n",
    "    \n",
    "    SanAntonio_Spurs = pd.concat([SanAntonio_Spurs, players], axis = 0)\n",
    "    \n",
    "SanAntonio_Spurs.to_csv('SanAntonio_Spurs.csv')\n",
    "\n",
    "print(\"There are a total of {} players on these SanAntonio_Spurs rosters\".format(len(SanAntonio_Spurs)))"
   ]
  },
  {
   "cell_type": "code",
   "execution_count": 26,
   "metadata": {},
   "outputs": [
    {
     "name": "stdout",
     "output_type": "stream",
     "text": [
      "There are a total of 799 players on these Atlanta_Hawks rosters\n"
     ]
    }
   ],
   "source": [
    "Atlanta_Hawks = pd.DataFrame()\n",
    "for year in years:\n",
    "    url = \"https://www.basketball-reference.com/teams/ATL/{}.html\".format(year)\n",
    "    players = NBA_Rosters(url)\n",
    "    \n",
    "    Atlanta_Hawks = pd.concat([Atlanta_Hawks, players], axis = 0)\n",
    "    \n",
    "Atlanta_Hawks.to_csv('Atlanta_Hawks.csv')\n",
    "\n",
    "print(\"There are a total of {} players on these Atlanta_Hawks rosters\".format(len(Atlanta_Hawks)))"
   ]
  },
  {
   "cell_type": "code",
   "execution_count": 27,
   "metadata": {},
   "outputs": [
    {
     "name": "stdout",
     "output_type": "stream",
     "text": [
      "There are a total of 778 players on these Boston_Celtics rosters\n"
     ]
    }
   ],
   "source": [
    "Boston_Celtics = pd.DataFrame()\n",
    "for year in years:\n",
    "    url = \"https://www.basketball-reference.com/teams/BOS/{}.html\".format(year)\n",
    "    players = NBA_Rosters(url)\n",
    "    \n",
    "    Boston_Celtics = pd.concat([Boston_Celtics, players], axis = 0)\n",
    "    \n",
    "Boston_Celtics.to_csv('Boston_Celtics.csv')\n",
    "\n",
    "print(\"There are a total of {} players on these Boston_Celtics rosters\".format(len(Boston_Celtics)))"
   ]
  },
  {
   "cell_type": "code",
   "execution_count": 28,
   "metadata": {},
   "outputs": [
    {
     "name": "stdout",
     "output_type": "stream",
     "text": [
      "There are a total of 815 players on these Philadelphia_76ers rosters\n"
     ]
    }
   ],
   "source": [
    "Philadelphia_76ers = pd.DataFrame()\n",
    "for year in years:\n",
    "    url = \"https://www.basketball-reference.com/teams/PHI/{}.html\".format(year)\n",
    "    players = NBA_Rosters(url)\n",
    "    \n",
    "    Philadelphia_76ers = pd.concat([Philadelphia_76ers, players], axis = 0)\n",
    "    \n",
    "Philadelphia_76ers.to_csv('Philadelphia_76ers.csv')\n",
    "\n",
    "print(\"There are a total of {} players on these Philadelphia_76ers rosters\".format(len(Philadelphia_76ers)))"
   ]
  },
  {
   "cell_type": "code",
   "execution_count": 29,
   "metadata": {},
   "outputs": [
    {
     "name": "stdout",
     "output_type": "stream",
     "text": [
      "There are a total of 778 players on these NewYork_Knicks rosters\n"
     ]
    }
   ],
   "source": [
    "NewYork_Knicks = pd.DataFrame()\n",
    "for year in years:\n",
    "    url = \"https://www.basketball-reference.com/teams/NYK/{}.html\".format(year)\n",
    "    players = NBA_Rosters(url)\n",
    "    \n",
    "    NewYork_Knicks = pd.concat([NewYork_Knicks, players], axis = 0)\n",
    "    \n",
    "NewYork_Knicks.to_csv('NewYork_Knicks.csv')\n",
    "\n",
    "print(\"There are a total of {} players on these NewYork_Knicks rosters\".format(len(NewYork_Knicks)))"
   ]
  },
  {
   "cell_type": "code",
   "execution_count": 30,
   "metadata": {},
   "outputs": [
    {
     "name": "stdout",
     "output_type": "stream",
     "text": [
      "There are a total of 781 players on these Phoenix_Suns rosters\n"
     ]
    }
   ],
   "source": [
    "Phoenix_Suns = pd.DataFrame()\n",
    "for year in years:\n",
    "    url = \"https://www.basketball-reference.com/teams/PHO/{}.html\".format(year)\n",
    "    players = NBA_Rosters(url)\n",
    "    \n",
    "    Phoenix_Suns = pd.concat([Phoenix_Suns, players], axis = 0)\n",
    "    \n",
    "Phoenix_Suns.to_csv('Phoenix_Suns.csv')\n",
    "\n",
    "print(\"There are a total of {} players on these Phoenix_Suns rosters\".format(len(Phoenix_Suns)))"
   ]
  },
  {
   "cell_type": "code",
   "execution_count": 31,
   "metadata": {},
   "outputs": [
    {
     "name": "stdout",
     "output_type": "stream",
     "text": [
      "There are a total of 751 players on these Portland_TrailBlazers rosters\n"
     ]
    }
   ],
   "source": [
    "Portland_TrailBlazers = pd.DataFrame()\n",
    "for year in years:\n",
    "    url = \"https://www.basketball-reference.com/teams/POR/{}.html\".format(year)\n",
    "    players = NBA_Rosters(url)\n",
    "    \n",
    "    Portland_TrailBlazers = pd.concat([Portland_TrailBlazers, players], axis = 0)\n",
    "    \n",
    "Portland_TrailBlazers.to_csv('Portland_TrailBlazers.csv')\n",
    "\n",
    "print(\"There are a total of {} players on these Portland_TrailBlazers rosters\".format(len(Portland_TrailBlazers)))"
   ]
  },
  {
   "cell_type": "code",
   "execution_count": 32,
   "metadata": {},
   "outputs": [
    {
     "name": "stdout",
     "output_type": "stream",
     "text": [
      "There are a total of 805 players on these GoldenState_Warriors rosters\n"
     ]
    }
   ],
   "source": [
    "GoldenState_Warriors = pd.DataFrame()\n",
    "for year in years:\n",
    "    url = \"https://www.basketball-reference.com/teams/GSW/{}.html\".format(year)\n",
    "    players = NBA_Rosters(url)\n",
    "    \n",
    "    GoldenState_Warriors = pd.concat([GoldenState_Warriors, players], axis = 0)\n",
    "    \n",
    "GoldenState_Warriors.to_csv('GoldenState_Warriors.csv')\n",
    "\n",
    "print(\"There are a total of {} players on these GoldenState_Warriors rosters\".format(len(GoldenState_Warriors)))"
   ]
  },
  {
   "cell_type": "code",
   "execution_count": 33,
   "metadata": {},
   "outputs": [
    {
     "name": "stdout",
     "output_type": "stream",
     "text": [
      "There are a total of 751 players on these LosAngeles_Lakers rosters\n"
     ]
    }
   ],
   "source": [
    "LosAngeles_Lakers = pd.DataFrame()\n",
    "for year in years:\n",
    "    url = \"https://www.basketball-reference.com/teams/LAL/{}.html\".format(year)\n",
    "    players = NBA_Rosters(url)\n",
    "    \n",
    "    LosAngeles_Lakers = pd.concat([LosAngeles_Lakers, players], axis = 0)\n",
    "    \n",
    "LosAngeles_Lakers.to_csv('LosAngeles_Lakers.csv')\n",
    "\n",
    "print(\"There are a total of {} players on these LosAngeles_Lakers rosters\".format(len(LosAngeles_Lakers)))"
   ]
  },
  {
   "cell_type": "code",
   "execution_count": 34,
   "metadata": {},
   "outputs": [
    {
     "name": "stdout",
     "output_type": "stream",
     "text": [
      "There are a total of 819 players on these LosAngeles_Clippers rosters\n"
     ]
    }
   ],
   "source": [
    "LosAngeles_Clippers = pd.DataFrame()\n",
    "\n",
    "for year in ['1976', '1977', '1978']:\n",
    "    url = \"https://www.basketball-reference.com/teams/BUF/{}.html\".format(year)\n",
    "    players = NBA_Rosters(url)\n",
    "    \n",
    "    LosAngeles_Clippers = pd.concat([LosAngeles_Clippers, players], axis = 0)\n",
    "    \n",
    "for year in ['1979', '1980', '1981', '1982', '1983', '1984']:\n",
    "    url = \"https://www.basketball-reference.com/teams/SDC/{}.html\".format(year)\n",
    "    players = NBA_Rosters(url)\n",
    "    \n",
    "    LosAngeles_Clippers = pd.concat([LosAngeles_Clippers, players], axis = 0)\n",
    "    \n",
    "for year in years[9:]:\n",
    "    url = \"https://www.basketball-reference.com/teams/LAC/{}.html\".format(year)\n",
    "    players = NBA_Rosters(url)\n",
    "    \n",
    "    LosAngeles_Clippers = pd.concat([LosAngeles_Clippers, players], axis = 0)\n",
    "    \n",
    "LosAngeles_Clippers.to_csv('LosAngeles_Clippers.csv')\n",
    "\n",
    "print(\"There are a total of {} players on these LosAngeles_Clippers rosters\".format(len(LosAngeles_Clippers)))"
   ]
  },
  {
   "cell_type": "code",
   "execution_count": 35,
   "metadata": {},
   "outputs": [
    {
     "name": "stdout",
     "output_type": "stream",
     "text": [
      "There are a total of 801 players on these Brooklyn_Nets rosters\n"
     ]
    }
   ],
   "source": [
    "Brooklyn_Nets = pd.DataFrame()\n",
    "\n",
    "for year in ['1977']:\n",
    "    url = \"https://www.basketball-reference.com/teams/NYY/{}.html\".format(year)\n",
    "    players = NBA_Rosters(url)\n",
    "    \n",
    "    Brooklyn_Nets = pd.concat([Brooklyn_Nets, players], axis = 0)\n",
    "    \n",
    "for year in years[2: 37]:\n",
    "    url = \"https://www.basketball-reference.com/teams/NJN/{}.html\".format(year)\n",
    "    players = NBA_Rosters(url)\n",
    "    \n",
    "    Brooklyn_Nets = pd.concat([Brooklyn_Nets, players], axis = 0)\n",
    "    \n",
    "for year in years[37:]:\n",
    "    url = \"https://www.basketball-reference.com/teams/BRK/{}.html\".format(year)\n",
    "    players = NBA_Rosters(url)\n",
    "    \n",
    "    Brooklyn_Nets = pd.concat([Brooklyn_Nets, players], axis = 0)\n",
    "    \n",
    "Brooklyn_Nets.to_csv('Brooklyn_Nets.csv')\n",
    "\n",
    "print(\"There are a total of {} players on these Brooklyn_Nets rosters\".format(len(Brooklyn_Nets)))"
   ]
  },
  {
   "cell_type": "code",
   "execution_count": 36,
   "metadata": {},
   "outputs": [
    {
     "name": "stdout",
     "output_type": "stream",
     "text": [
      "There are a total of 733 players on these Utah_Jazz rosters\n"
     ]
    }
   ],
   "source": [
    "Utah_Jazz = pd.DataFrame()\n",
    "\n",
    "for year in years[: 4]:\n",
    "    url = \"https://www.basketball-reference.com/teams/NOJ/{}.html\".format(year)\n",
    "    players = NBA_Rosters(url)\n",
    "    \n",
    "    Utah_Jazz = pd.concat([Utah_Jazz, players], axis = 0)\n",
    "    \n",
    "for year in years[4:]:\n",
    "    url = \"https://www.basketball-reference.com/teams/UTA/{}.html\".format(year)\n",
    "    players = NBA_Rosters(url)\n",
    "    \n",
    "    Utah_Jazz = pd.concat([Utah_Jazz, players], axis = 0)\n",
    "    \n",
    "Utah_Jazz.to_csv('Utah_Jazz.csv')\n",
    "\n",
    "print(\"There are a total of {} players on these Utah_Jazz rosters\".format(len(Utah_Jazz)))"
   ]
  },
  {
   "cell_type": "code",
   "execution_count": 37,
   "metadata": {},
   "outputs": [
    {
     "name": "stdout",
     "output_type": "stream",
     "text": [
      "There are a total of 779 players on these Washington_Wizards rosters\n"
     ]
    }
   ],
   "source": [
    "Washington_Wizards = pd.DataFrame()\n",
    "\n",
    "for year in years[: 23]:\n",
    "    url = \"https://www.basketball-reference.com/teams/WSB/{}.html\".format(year)\n",
    "    players = NBA_Rosters(url)\n",
    "    \n",
    "    Washington_Wizards = pd.concat([Washington_Wizards, players], axis = 0)\n",
    "    \n",
    "for year in years[23:]:\n",
    "    url = \"https://www.basketball-reference.com/teams/WAS/{}.html\".format(year)\n",
    "    players = NBA_Rosters(url)\n",
    "    \n",
    "    Washington_Wizards = pd.concat([Washington_Wizards, players], axis = 0)\n",
    "    \n",
    "Washington_Wizards.to_csv('Washington_Wizards.csv')\n",
    "\n",
    "print(\"There are a total of {} players on these Washington_Wizards rosters\".format(len(Washington_Wizards)))"
   ]
  },
  {
   "cell_type": "code",
   "execution_count": 38,
   "metadata": {},
   "outputs": [
    {
     "name": "stdout",
     "output_type": "stream",
     "text": [
      "There are a total of 755 players on these OklahomaCity_Thunder rosters\n"
     ]
    }
   ],
   "source": [
    "OklahomaCity_Thunder = pd.DataFrame()\n",
    "\n",
    "for year in years[: 33]:\n",
    "    url = \"https://www.basketball-reference.com/teams/SEA/{}.html\".format(year)\n",
    "    players = NBA_Rosters(url)\n",
    "    \n",
    "    OklahomaCity_Thunder = pd.concat([OklahomaCity_Thunder, players], axis = 0)\n",
    "    \n",
    "for year in years[33:]:\n",
    "    url = \"https://www.basketball-reference.com/teams/OKC/{}.html\".format(year)\n",
    "    players = NBA_Rosters(url)\n",
    "    \n",
    "    OklahomaCity_Thunder = pd.concat([OklahomaCity_Thunder, players], axis = 0)\n",
    "    \n",
    "OklahomaCity_Thunder.to_csv('OklahomaCity_Thunder.csv')\n",
    "\n",
    "print(\"There are a total of {} players on these OklahomaCity_Thunder rosters\".format(len(OklahomaCity_Thunder)))"
   ]
  },
  {
   "cell_type": "code",
   "execution_count": 39,
   "metadata": {},
   "outputs": [
    {
     "name": "stdout",
     "output_type": "stream",
     "text": [
      "There are a total of 770 players on these Sacramento_Kings rosters\n"
     ]
    }
   ],
   "source": [
    "Sacramento_Kings = pd.DataFrame()\n",
    "\n",
    "for year in years[: 10]:\n",
    "    url = \"https://www.basketball-reference.com/teams/KCK/{}.html\".format(year)\n",
    "    players = NBA_Rosters(url)\n",
    "    \n",
    "    Sacramento_Kings = pd.concat([Sacramento_Kings, players], axis = 0)\n",
    "    \n",
    "for year in years[10:]:\n",
    "    url = \"https://www.basketball-reference.com/teams/SAC/{}.html\".format(year)\n",
    "    players = NBA_Rosters(url)\n",
    "    \n",
    "    Sacramento_Kings = pd.concat([Sacramento_Kings, players], axis = 0)\n",
    "    \n",
    "Sacramento_Kings.to_csv('Sacramento_Kings.csv')\n",
    "\n",
    "print(\"There are a total of {} players on these Sacramento_Kings rosters\".format(len(Sacramento_Kings)))"
   ]
  },
  {
   "cell_type": "code",
   "execution_count": 40,
   "metadata": {},
   "outputs": [
    {
     "name": "stdout",
     "output_type": "stream",
     "text": [
      "There are a total of 484 players on these Toronto_Raptors rosters\n"
     ]
    }
   ],
   "source": [
    "Toronto_Raptors = pd.DataFrame()\n",
    "\n",
    "for year in years[20:]:\n",
    "    url = \"https://www.basketball-reference.com/teams/TOR/{}.html\".format(year)\n",
    "    players = NBA_Rosters(url)\n",
    "    \n",
    "    Toronto_Raptors = pd.concat([Toronto_Raptors, players], axis = 0)\n",
    "    \n",
    "Toronto_Raptors.to_csv('Toronto_Raptors.csv')\n",
    "\n",
    "print(\"There are a total of {} players on these Toronto_Raptors rosters\".format(len(Toronto_Raptors)))"
   ]
  },
  {
   "cell_type": "code",
   "execution_count": 41,
   "metadata": {},
   "outputs": [
    {
     "name": "stdout",
     "output_type": "stream",
     "text": [
      "There are a total of 553 players on these Orlando_Magic rosters\n"
     ]
    }
   ],
   "source": [
    "Orlando_Magic = pd.DataFrame()\n",
    "\n",
    "for year in years[14:]:\n",
    "    url = \"https://www.basketball-reference.com/teams/ORL/{}.html\".format(year)\n",
    "    players = NBA_Rosters(url)\n",
    "    \n",
    "    Orlando_Magic = pd.concat([Orlando_Magic, players], axis = 0)\n",
    "    \n",
    "Orlando_Magic.to_csv('Orlando_Magic.csv')\n",
    "\n",
    "print(\"There are a total of {} players on these Orlando_Magic rosters\".format(len(Orlando_Magic)))"
   ]
  },
  {
   "cell_type": "code",
   "execution_count": 42,
   "metadata": {},
   "outputs": [
    {
     "name": "stdout",
     "output_type": "stream",
     "text": [
      "There are a total of 539 players on these Minnesota_Timberwolves rosters\n"
     ]
    }
   ],
   "source": [
    "Minnesota_Timberwolves = pd.DataFrame()\n",
    "\n",
    "for year in years[14:]:\n",
    "    url = \"https://www.basketball-reference.com/teams/MIN/{}.html\".format(year)\n",
    "    players = NBA_Rosters(url)\n",
    "    \n",
    "    Minnesota_Timberwolves = pd.concat([Minnesota_Timberwolves, players], axis = 0)\n",
    "    \n",
    "Minnesota_Timberwolves.to_csv('Minnesota_Timberwolves.csv')\n",
    "\n",
    "print(\"There are a total of {} players on these Minnesota_Timberwolves rosters\".format(len(Minnesota_Timberwolves)))"
   ]
  },
  {
   "cell_type": "code",
   "execution_count": 43,
   "metadata": {},
   "outputs": [
    {
     "name": "stdout",
     "output_type": "stream",
     "text": [
      "There are a total of 575 players on these Miami_Heat rosters\n"
     ]
    }
   ],
   "source": [
    "Miami_Heat = pd.DataFrame()\n",
    "\n",
    "for year in years[13:]:\n",
    "    url = \"https://www.basketball-reference.com/teams/MIA/{}.html\".format(year)\n",
    "    players = NBA_Rosters(url)\n",
    "    \n",
    "    Miami_Heat = pd.concat([Miami_Heat, players], axis = 0)\n",
    "    \n",
    "Miami_Heat.to_csv('Miami_Heat.csv')\n",
    "\n",
    "print(\"There are a total of {} players on these Miami_Heat rosters\".format(len(Miami_Heat)))"
   ]
  },
  {
   "cell_type": "code",
   "execution_count": 44,
   "metadata": {},
   "outputs": [
    {
     "name": "stdout",
     "output_type": "stream",
     "text": [
      "There are a total of 720 players on these Dallas_Mavericks rosters\n"
     ]
    }
   ],
   "source": [
    "Dallas_Mavericks = pd.DataFrame()\n",
    "\n",
    "for year in years[5:]:\n",
    "    url = \"https://www.basketball-reference.com/teams/DAL/{}.html\".format(year)\n",
    "    players = NBA_Rosters(url)\n",
    "    \n",
    "    Dallas_Mavericks = pd.concat([Dallas_Mavericks, players], axis = 0)\n",
    "    \n",
    "Dallas_Mavericks.to_csv('Dallas_Mavericks.csv')\n",
    "\n",
    "print(\"There are a total of {} players on these Dallas_Mavericks rosters\".format(len(Dallas_Mavericks)))"
   ]
  },
  {
   "cell_type": "code",
   "execution_count": 45,
   "metadata": {},
   "outputs": [
    {
     "name": "stdout",
     "output_type": "stream",
     "text": [
      "There are a total of 302 players on these Charlotte_Hornets rosters\n"
     ]
    }
   ],
   "source": [
    "Charlotte_Hornets = pd.DataFrame()\n",
    "    \n",
    "for year in years[29: 39]:\n",
    "    url = \"https://www.basketball-reference.com/teams/CHA/{}.html\".format(year)\n",
    "    players = NBA_Rosters(url)\n",
    "    \n",
    "    Charlotte_Hornets = pd.concat([Charlotte_Hornets, players], axis = 0)\n",
    "    \n",
    "for year in years[39:]:\n",
    "    url = \"https://www.basketball-reference.com/teams/CHO/{}.html\".format(year)\n",
    "    players = NBA_Rosters(url)\n",
    "    \n",
    "    Charlotte_Hornets = pd.concat([Charlotte_Hornets, players], axis = 0)\n",
    "    \n",
    "Charlotte_Hornets.to_csv('Charlotte_Hornets.csv')\n",
    "\n",
    "print(\"There are a total of {} players on these Charlotte_Hornets rosters\".format(len(Charlotte_Hornets)))"
   ]
  },
  {
   "cell_type": "code",
   "execution_count": 46,
   "metadata": {},
   "outputs": [
    {
     "name": "stdout",
     "output_type": "stream",
     "text": [
      "There are a total of 479 players on these Memphis_Grizzlies rosters\n"
     ]
    }
   ],
   "source": [
    "Memphis_Grizzlies = pd.DataFrame()\n",
    "\n",
    "for year in years[20: 26]:\n",
    "    url = \"https://www.basketball-reference.com/teams/VAN/{}.html\".format(year)\n",
    "    players = NBA_Rosters(url)\n",
    "    \n",
    "    Memphis_Grizzlies = pd.concat([Memphis_Grizzlies, players], axis = 0)\n",
    "    \n",
    "for year in years[26:]:\n",
    "    url = \"https://www.basketball-reference.com/teams/MEM/{}.html\".format(year)\n",
    "    players = NBA_Rosters(url)\n",
    "    \n",
    "    Memphis_Grizzlies = pd.concat([Memphis_Grizzlies, players], axis = 0)\n",
    "    \n",
    "Memphis_Grizzlies.to_csv('Memphis_Grizzlies.csv')\n",
    "\n",
    "print(\"There are a total of {} players on these Memphis_Grizzlies rosters\".format(len(Memphis_Grizzlies)))"
   ]
  },
  {
   "cell_type": "code",
   "execution_count": 47,
   "metadata": {},
   "outputs": [
    {
     "name": "stdout",
     "output_type": "stream",
     "text": [
      "There are a total of 619 players on these NewOrleans_Pelicans rosters\n"
     ]
    }
   ],
   "source": [
    "NewOrleans_Pelicans = pd.DataFrame()\n",
    "\n",
    "for year in years[13: 27]:\n",
    "    url = \"https://www.basketball-reference.com/teams/CHH/{}.html\".format(year)\n",
    "    players = NBA_Rosters(url)\n",
    "    \n",
    "    NewOrleans_Pelicans = pd.concat([NewOrleans_Pelicans, players], axis = 0)\n",
    "    \n",
    "for year in years[27: 30]:\n",
    "    url = \"https://www.basketball-reference.com/teams/NOH/{}.html\".format(year)\n",
    "    players = NBA_Rosters(url)\n",
    "    \n",
    "    NewOrleans_Pelicans = pd.concat([NewOrleans_Pelicans, players], axis = 0)\n",
    "    \n",
    "for year in years[30: 32]:\n",
    "    url = \"https://www.basketball-reference.com/teams/NOK/{}.html\".format(year)\n",
    "    players = NBA_Rosters(url)\n",
    "    \n",
    "    NewOrleans_Pelicans = pd.concat([NewOrleans_Pelicans, players], axis = 0)\n",
    "    \n",
    "for year in years[32: 38]:\n",
    "    url = \"https://www.basketball-reference.com/teams/NOH/{}.html\".format(year)\n",
    "    players = NBA_Rosters(url)\n",
    "    \n",
    "    NewOrleans_Pelicans = pd.concat([NewOrleans_Pelicans, players], axis = 0)\n",
    "    \n",
    "for year in years[38:]:\n",
    "    url = \"https://www.basketball-reference.com/teams/NOP/{}.html\".format(year)\n",
    "    players = NBA_Rosters(url)\n",
    "    \n",
    "    NewOrleans_Pelicans = pd.concat([NewOrleans_Pelicans, players], axis = 0)\n",
    "    \n",
    "NewOrleans_Pelicans.to_csv('NewOrleans_Pelicans.csv')\n",
    "\n",
    "print(\"There are a total of {} players on these NewOrleans_Pelicans rosters\".format(len(NewOrleans_Pelicans)))"
   ]
  },
  {
   "cell_type": "code",
   "execution_count": null,
   "metadata": {},
   "outputs": [],
   "source": []
  }
 ],
 "metadata": {
  "kernelspec": {
   "display_name": "Python 3",
   "language": "python",
   "name": "python3"
  },
  "language_info": {
   "codemirror_mode": {
    "name": "ipython",
    "version": 3
   },
   "file_extension": ".py",
   "mimetype": "text/x-python",
   "name": "python",
   "nbconvert_exporter": "python",
   "pygments_lexer": "ipython3",
   "version": "3.7.4"
  }
 },
 "nbformat": 4,
 "nbformat_minor": 2
}
